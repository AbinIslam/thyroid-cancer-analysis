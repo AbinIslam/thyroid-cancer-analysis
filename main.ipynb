{
 "cells": [
  {
   "cell_type": "code",
   "execution_count": 1,
   "id": "48dba55d",
   "metadata": {},
   "outputs": [],
   "source": [
    "#Project by Abin Islam\n",
    "#Read \"Objectives.docx\" to know the aims of this project."
   ]
  },
  {
   "cell_type": "code",
   "execution_count": 2,
   "id": "f0fabbb3",
   "metadata": {},
   "outputs": [],
   "source": [
    "import pandas as pd\n",
    "import seaborn as sns\n",
    "import matplotlib.pyplot as plt"
   ]
  },
  {
   "cell_type": "code",
   "execution_count": 3,
   "id": "42dfbefa",
   "metadata": {},
   "outputs": [],
   "source": [
    "df = pd.read_csv(\"filtered_thyroid_data.csv\")"
   ]
  },
  {
   "cell_type": "code",
   "execution_count": 4,
   "id": "90356789",
   "metadata": {},
   "outputs": [
    {
     "data": {
      "text/html": [
       "<div>\n",
       "<style scoped>\n",
       "    .dataframe tbody tr th:only-of-type {\n",
       "        vertical-align: middle;\n",
       "    }\n",
       "\n",
       "    .dataframe tbody tr th {\n",
       "        vertical-align: top;\n",
       "    }\n",
       "\n",
       "    .dataframe thead th {\n",
       "        text-align: right;\n",
       "    }\n",
       "</style>\n",
       "<table border=\"1\" class=\"dataframe\">\n",
       "  <thead>\n",
       "    <tr style=\"text-align: right;\">\n",
       "      <th></th>\n",
       "      <th>Age</th>\n",
       "      <th>Gender</th>\n",
       "      <th>Hx Radiothreapy</th>\n",
       "      <th>Adenopathy</th>\n",
       "      <th>Pathology</th>\n",
       "      <th>Focality</th>\n",
       "      <th>Risk</th>\n",
       "      <th>T</th>\n",
       "      <th>N</th>\n",
       "      <th>M</th>\n",
       "      <th>Stage</th>\n",
       "      <th>Response</th>\n",
       "      <th>Recurred</th>\n",
       "    </tr>\n",
       "  </thead>\n",
       "  <tbody>\n",
       "    <tr>\n",
       "      <th>0</th>\n",
       "      <td>27</td>\n",
       "      <td>F</td>\n",
       "      <td>No</td>\n",
       "      <td>No</td>\n",
       "      <td>Micropapillary</td>\n",
       "      <td>Uni-Focal</td>\n",
       "      <td>Low</td>\n",
       "      <td>T1a</td>\n",
       "      <td>N0</td>\n",
       "      <td>M0</td>\n",
       "      <td>I</td>\n",
       "      <td>Indeterminate</td>\n",
       "      <td>No</td>\n",
       "    </tr>\n",
       "    <tr>\n",
       "      <th>1</th>\n",
       "      <td>34</td>\n",
       "      <td>F</td>\n",
       "      <td>No</td>\n",
       "      <td>No</td>\n",
       "      <td>Micropapillary</td>\n",
       "      <td>Uni-Focal</td>\n",
       "      <td>Low</td>\n",
       "      <td>T1a</td>\n",
       "      <td>N0</td>\n",
       "      <td>M0</td>\n",
       "      <td>I</td>\n",
       "      <td>Excellent</td>\n",
       "      <td>No</td>\n",
       "    </tr>\n",
       "    <tr>\n",
       "      <th>2</th>\n",
       "      <td>30</td>\n",
       "      <td>F</td>\n",
       "      <td>No</td>\n",
       "      <td>No</td>\n",
       "      <td>Micropapillary</td>\n",
       "      <td>Uni-Focal</td>\n",
       "      <td>Low</td>\n",
       "      <td>T1a</td>\n",
       "      <td>N0</td>\n",
       "      <td>M0</td>\n",
       "      <td>I</td>\n",
       "      <td>Excellent</td>\n",
       "      <td>No</td>\n",
       "    </tr>\n",
       "    <tr>\n",
       "      <th>3</th>\n",
       "      <td>62</td>\n",
       "      <td>F</td>\n",
       "      <td>No</td>\n",
       "      <td>No</td>\n",
       "      <td>Micropapillary</td>\n",
       "      <td>Uni-Focal</td>\n",
       "      <td>Low</td>\n",
       "      <td>T1a</td>\n",
       "      <td>N0</td>\n",
       "      <td>M0</td>\n",
       "      <td>I</td>\n",
       "      <td>Excellent</td>\n",
       "      <td>No</td>\n",
       "    </tr>\n",
       "    <tr>\n",
       "      <th>4</th>\n",
       "      <td>62</td>\n",
       "      <td>F</td>\n",
       "      <td>No</td>\n",
       "      <td>No</td>\n",
       "      <td>Micropapillary</td>\n",
       "      <td>Multi-Focal</td>\n",
       "      <td>Low</td>\n",
       "      <td>T1a</td>\n",
       "      <td>N0</td>\n",
       "      <td>M0</td>\n",
       "      <td>I</td>\n",
       "      <td>Excellent</td>\n",
       "      <td>No</td>\n",
       "    </tr>\n",
       "  </tbody>\n",
       "</table>\n",
       "</div>"
      ],
      "text/plain": [
       "   Age Gender Hx Radiothreapy Adenopathy       Pathology     Focality Risk  \\\n",
       "0   27      F              No         No  Micropapillary    Uni-Focal  Low   \n",
       "1   34      F              No         No  Micropapillary    Uni-Focal  Low   \n",
       "2   30      F              No         No  Micropapillary    Uni-Focal  Low   \n",
       "3   62      F              No         No  Micropapillary    Uni-Focal  Low   \n",
       "4   62      F              No         No  Micropapillary  Multi-Focal  Low   \n",
       "\n",
       "     T   N   M Stage       Response Recurred  \n",
       "0  T1a  N0  M0     I  Indeterminate       No  \n",
       "1  T1a  N0  M0     I      Excellent       No  \n",
       "2  T1a  N0  M0     I      Excellent       No  \n",
       "3  T1a  N0  M0     I      Excellent       No  \n",
       "4  T1a  N0  M0     I      Excellent       No  "
      ]
     },
     "execution_count": 4,
     "metadata": {},
     "output_type": "execute_result"
    }
   ],
   "source": [
    "#Double check the dataset\n",
    "\n",
    "df.head()"
   ]
  },
  {
   "cell_type": "code",
   "execution_count": 5,
   "id": "83e7a6cc",
   "metadata": {},
   "outputs": [
    {
     "data": {
      "text/plain": [
       "(383, 13)"
      ]
     },
     "execution_count": 5,
     "metadata": {},
     "output_type": "execute_result"
    }
   ],
   "source": [
    "df.shape"
   ]
  },
  {
   "cell_type": "code",
   "execution_count": 6,
   "id": "968ef580",
   "metadata": {},
   "outputs": [
    {
     "data": {
      "text/plain": [
       "Age                 int64\n",
       "Gender             object\n",
       "Hx Radiothreapy    object\n",
       "Adenopathy         object\n",
       "Pathology          object\n",
       "Focality           object\n",
       "Risk               object\n",
       "T                  object\n",
       "N                  object\n",
       "M                  object\n",
       "Stage              object\n",
       "Response           object\n",
       "Recurred           object\n",
       "dtype: object"
      ]
     },
     "execution_count": 6,
     "metadata": {},
     "output_type": "execute_result"
    }
   ],
   "source": [
    "df.dtypes"
   ]
  },
  {
   "cell_type": "code",
   "execution_count": 7,
   "id": "e840f3c4",
   "metadata": {},
   "outputs": [
    {
     "data": {
      "text/plain": [
       "Age                0\n",
       "Gender             0\n",
       "Hx Radiothreapy    0\n",
       "Adenopathy         0\n",
       "Pathology          0\n",
       "Focality           0\n",
       "Risk               0\n",
       "T                  0\n",
       "N                  0\n",
       "M                  0\n",
       "Stage              0\n",
       "Response           0\n",
       "Recurred           0\n",
       "dtype: int64"
      ]
     },
     "execution_count": 7,
     "metadata": {},
     "output_type": "execute_result"
    }
   ],
   "source": [
    "df.isnull().sum()"
   ]
  },
  {
   "cell_type": "code",
   "execution_count": 8,
   "id": "e567929b",
   "metadata": {},
   "outputs": [],
   "source": [
    "#No null values present."
   ]
  },
  {
   "cell_type": "code",
   "execution_count": 9,
   "id": "40b3eefc",
   "metadata": {},
   "outputs": [],
   "source": [
    "#Now that we can see the column names and types, we can check the values in columns that are not used for the objectives.\n",
    "#This is done to see if there are any interesting factors that can be analysed regardless of objectives."
   ]
  },
  {
   "cell_type": "code",
   "execution_count": 10,
   "id": "7278aed8",
   "metadata": {},
   "outputs": [
    {
     "data": {
      "text/plain": [
       "Hx Radiothreapy\n",
       "No     376\n",
       "Yes      7\n",
       "Name: count, dtype: int64"
      ]
     },
     "execution_count": 10,
     "metadata": {},
     "output_type": "execute_result"
    }
   ],
   "source": [
    "df['Hx Radiothreapy'].value_counts()"
   ]
  },
  {
   "cell_type": "code",
   "execution_count": 11,
   "id": "9b027e70",
   "metadata": {},
   "outputs": [
    {
     "data": {
      "text/plain": [
       "Adenopathy\n",
       "No           277\n",
       "Right         48\n",
       "Bilateral     32\n",
       "Left          17\n",
       "Extensive      7\n",
       "Posterior      2\n",
       "Name: count, dtype: int64"
      ]
     },
     "execution_count": 11,
     "metadata": {},
     "output_type": "execute_result"
    }
   ],
   "source": [
    "df['Adenopathy'].value_counts()"
   ]
  },
  {
   "cell_type": "code",
   "execution_count": 12,
   "id": "ae82cf9c",
   "metadata": {},
   "outputs": [
    {
     "data": {
      "text/plain": [
       "Focality\n",
       "Uni-Focal      247\n",
       "Multi-Focal    136\n",
       "Name: count, dtype: int64"
      ]
     },
     "execution_count": 12,
     "metadata": {},
     "output_type": "execute_result"
    }
   ],
   "source": [
    "df['Focality'].value_counts()"
   ]
  },
  {
   "cell_type": "code",
   "execution_count": 13,
   "id": "879983cb",
   "metadata": {},
   "outputs": [
    {
     "data": {
      "text/plain": [
       "Risk\n",
       "Low             249\n",
       "Intermediate    102\n",
       "High             32\n",
       "Name: count, dtype: int64"
      ]
     },
     "execution_count": 13,
     "metadata": {},
     "output_type": "execute_result"
    }
   ],
   "source": [
    "df['Risk'].value_counts()"
   ]
  },
  {
   "cell_type": "code",
   "execution_count": 14,
   "id": "5560db1a",
   "metadata": {},
   "outputs": [
    {
     "data": {
      "text/plain": [
       "T\n",
       "T2     151\n",
       "T3a     96\n",
       "T1a     49\n",
       "T1b     43\n",
       "T4a     20\n",
       "T3b     16\n",
       "T4b      8\n",
       "Name: count, dtype: int64"
      ]
     },
     "execution_count": 14,
     "metadata": {},
     "output_type": "execute_result"
    }
   ],
   "source": [
    "df['T'].value_counts()"
   ]
  },
  {
   "cell_type": "code",
   "execution_count": 15,
   "id": "15d40804",
   "metadata": {},
   "outputs": [
    {
     "data": {
      "text/plain": [
       "N\n",
       "N0     268\n",
       "N1b     93\n",
       "N1a     22\n",
       "Name: count, dtype: int64"
      ]
     },
     "execution_count": 15,
     "metadata": {},
     "output_type": "execute_result"
    }
   ],
   "source": [
    "df['N'].value_counts()"
   ]
  },
  {
   "cell_type": "code",
   "execution_count": 16,
   "id": "be688b5d",
   "metadata": {},
   "outputs": [
    {
     "data": {
      "text/plain": [
       "M\n",
       "M0    365\n",
       "M1     18\n",
       "Name: count, dtype: int64"
      ]
     },
     "execution_count": 16,
     "metadata": {},
     "output_type": "execute_result"
    }
   ],
   "source": [
    "df['M'].value_counts()"
   ]
  },
  {
   "cell_type": "code",
   "execution_count": 17,
   "id": "71fe9d51",
   "metadata": {},
   "outputs": [],
   "source": [
    "#After having checked the values of these columns, \"Focality\" and \"Risk\" will be kept\n",
    "#NOTE: TNM is a system used to determine the stage of the cancer, since we already have a column for this, \n",
    "#these three columns will be removed."
   ]
  },
  {
   "cell_type": "code",
   "execution_count": 18,
   "id": "a6c9daa8",
   "metadata": {},
   "outputs": [],
   "source": [
    "df_cleaned = df.drop(columns=['Hx Radiothreapy', 'Adenopathy', 'T', 'N', 'M'])"
   ]
  },
  {
   "cell_type": "code",
   "execution_count": 19,
   "id": "f089ff28",
   "metadata": {},
   "outputs": [],
   "source": [
    "#Check cleaned dataset."
   ]
  },
  {
   "cell_type": "code",
   "execution_count": 20,
   "id": "1b8c3ce7",
   "metadata": {},
   "outputs": [
    {
     "data": {
      "text/html": [
       "<div>\n",
       "<style scoped>\n",
       "    .dataframe tbody tr th:only-of-type {\n",
       "        vertical-align: middle;\n",
       "    }\n",
       "\n",
       "    .dataframe tbody tr th {\n",
       "        vertical-align: top;\n",
       "    }\n",
       "\n",
       "    .dataframe thead th {\n",
       "        text-align: right;\n",
       "    }\n",
       "</style>\n",
       "<table border=\"1\" class=\"dataframe\">\n",
       "  <thead>\n",
       "    <tr style=\"text-align: right;\">\n",
       "      <th></th>\n",
       "      <th>Age</th>\n",
       "      <th>Gender</th>\n",
       "      <th>Pathology</th>\n",
       "      <th>Focality</th>\n",
       "      <th>Risk</th>\n",
       "      <th>Stage</th>\n",
       "      <th>Response</th>\n",
       "      <th>Recurred</th>\n",
       "    </tr>\n",
       "  </thead>\n",
       "  <tbody>\n",
       "    <tr>\n",
       "      <th>0</th>\n",
       "      <td>27</td>\n",
       "      <td>F</td>\n",
       "      <td>Micropapillary</td>\n",
       "      <td>Uni-Focal</td>\n",
       "      <td>Low</td>\n",
       "      <td>I</td>\n",
       "      <td>Indeterminate</td>\n",
       "      <td>No</td>\n",
       "    </tr>\n",
       "    <tr>\n",
       "      <th>1</th>\n",
       "      <td>34</td>\n",
       "      <td>F</td>\n",
       "      <td>Micropapillary</td>\n",
       "      <td>Uni-Focal</td>\n",
       "      <td>Low</td>\n",
       "      <td>I</td>\n",
       "      <td>Excellent</td>\n",
       "      <td>No</td>\n",
       "    </tr>\n",
       "    <tr>\n",
       "      <th>2</th>\n",
       "      <td>30</td>\n",
       "      <td>F</td>\n",
       "      <td>Micropapillary</td>\n",
       "      <td>Uni-Focal</td>\n",
       "      <td>Low</td>\n",
       "      <td>I</td>\n",
       "      <td>Excellent</td>\n",
       "      <td>No</td>\n",
       "    </tr>\n",
       "    <tr>\n",
       "      <th>3</th>\n",
       "      <td>62</td>\n",
       "      <td>F</td>\n",
       "      <td>Micropapillary</td>\n",
       "      <td>Uni-Focal</td>\n",
       "      <td>Low</td>\n",
       "      <td>I</td>\n",
       "      <td>Excellent</td>\n",
       "      <td>No</td>\n",
       "    </tr>\n",
       "    <tr>\n",
       "      <th>4</th>\n",
       "      <td>62</td>\n",
       "      <td>F</td>\n",
       "      <td>Micropapillary</td>\n",
       "      <td>Multi-Focal</td>\n",
       "      <td>Low</td>\n",
       "      <td>I</td>\n",
       "      <td>Excellent</td>\n",
       "      <td>No</td>\n",
       "    </tr>\n",
       "  </tbody>\n",
       "</table>\n",
       "</div>"
      ],
      "text/plain": [
       "   Age Gender       Pathology     Focality Risk Stage       Response Recurred\n",
       "0   27      F  Micropapillary    Uni-Focal  Low     I  Indeterminate       No\n",
       "1   34      F  Micropapillary    Uni-Focal  Low     I      Excellent       No\n",
       "2   30      F  Micropapillary    Uni-Focal  Low     I      Excellent       No\n",
       "3   62      F  Micropapillary    Uni-Focal  Low     I      Excellent       No\n",
       "4   62      F  Micropapillary  Multi-Focal  Low     I      Excellent       No"
      ]
     },
     "execution_count": 20,
     "metadata": {},
     "output_type": "execute_result"
    }
   ],
   "source": [
    "df_cleaned.head()"
   ]
  },
  {
   "cell_type": "code",
   "execution_count": 21,
   "id": "8f78a1c1",
   "metadata": {},
   "outputs": [],
   "source": [
    "sns.set_style(\"darkgrid\")"
   ]
  },
  {
   "cell_type": "code",
   "execution_count": 22,
   "id": "65f16ea4",
   "metadata": {},
   "outputs": [
    {
     "data": {
      "image/png": "[encoded data removed]",
      "text/plain": [
       "<Figure size 640x480 with 1 Axes>"
      ]
     },
     "metadata": {},
     "output_type": "display_data"
    }
   ],
   "source": [
    "ax = sns.histplot(df_cleaned, x = 'Gender')\n",
    "ax.patches[0].set_facecolor(\"pink\")\n",
    "ax.patches[1].set_facecolor(\"green\")\n",
    "plt.show()"
   ]
  },
  {
   "cell_type": "code",
   "execution_count": 23,
   "id": "1fd51e31",
   "metadata": {},
   "outputs": [],
   "source": [
    "#We can immediately see that females are more susceptible to thyroid cancer. It can be argued that the sample size simply\n",
    "#has more females. However, research provides evidence that women, on average, are diagnosed with thyroid cancer more often.\n",
    "#Link: https://www.cancer.gov/news-events/cancer-currents-blog/2021/thyroid-cancer-diagnosed-more-in-women"
   ]
  },
  {
   "cell_type": "code",
   "execution_count": 24,
   "id": "91a2b6a9",
   "metadata": {},
   "outputs": [
    {
     "data": {
      "text/plain": [
       "<Axes: xlabel='Age', ylabel='Count'>"
      ]
     },
     "execution_count": 24,
     "metadata": {},
     "output_type": "execute_result"
    },
    {
     "data": {
      "image/png": "[encoded data removed]",
      "text/plain": [
       "<Figure size 640x480 with 1 Axes>"
      ]
     },
     "metadata": {},
     "output_type": "display_data"
    }
   ],
   "source": [
    "sns.lineplot(\n",
    "    data = df_cleaned.groupby(['Age']).size().reset_index(name = 'Count'),\n",
    "    x = 'Age', y = 'Count', color = 'red')"
   ]
  },
  {
   "cell_type": "code",
   "execution_count": 25,
   "id": "b9ee7a37",
   "metadata": {},
   "outputs": [
    {
     "data": {
      "text/plain": [
       "<Axes: xlabel='Age', ylabel='Count'>"
      ]
     },
     "execution_count": 25,
     "metadata": {},
     "output_type": "execute_result"
    },
    {
     "data": {
      "image/png": "[encoded data removed]",
      "text/plain": [
       "<Figure size 640x480 with 1 Axes>"
      ]
     },
     "metadata": {},
     "output_type": "display_data"
    }
   ],
   "source": [
    "sns.lineplot(\n",
    "    data = df_cleaned.groupby(['Age', 'Gender']).size().reset_index(name = 'Count'),\n",
    "    x = 'Age', y = 'Count', hue = 'Gender', palette = 'flare')"
   ]
  },
  {
   "cell_type": "code",
   "execution_count": 26,
   "id": "2961932c",
   "metadata": {},
   "outputs": [],
   "source": [
    "#In the first graph, it can be seen that thryoid cancer affects those that are in their early 30s the most often. However,\n",
    "#this may be due to the overall population itself as there may be more people in that age range regardless."
   ]
  },
  {
   "cell_type": "code",
   "execution_count": 27,
   "id": "c9e78368",
   "metadata": {},
   "outputs": [],
   "source": [
    "#The pattern in the first graph is similar to the susceptibility in females (as seen on the second graph). It is different\n",
    "#for males. Despite the similar spike in thyroid cancer in males of early 30s, the average number of males with thyroid \n",
    "#cancer is similar throughout the other ages."
   ]
  },
  {
   "cell_type": "code",
   "execution_count": 28,
   "id": "1776bbc2",
   "metadata": {},
   "outputs": [],
   "source": [
    "#Predictive modelling"
   ]
  },
  {
   "cell_type": "code",
   "execution_count": 29,
   "id": "11954801",
   "metadata": {},
   "outputs": [],
   "source": [
    "import numpy as np\n",
    "from sklearn import model_selection\n",
    "from sklearn.linear_model import LogisticRegression\n",
    "from sklearn.model_selection import train_test_split"
   ]
  },
  {
   "cell_type": "code",
   "execution_count": 30,
   "id": "dc6aab97",
   "metadata": {},
   "outputs": [
    {
     "name": "stdout",
     "output_type": "stream",
     "text": [
      "<class 'pandas.core.frame.DataFrame'>\n",
      "RangeIndex: 383 entries, 0 to 382\n",
      "Data columns (total 8 columns):\n",
      " #   Column     Non-Null Count  Dtype \n",
      "---  ------     --------------  ----- \n",
      " 0   Age        383 non-null    int64 \n",
      " 1   Gender     383 non-null    object\n",
      " 2   Pathology  383 non-null    object\n",
      " 3   Focality   383 non-null    object\n",
      " 4   Risk       383 non-null    object\n",
      " 5   Stage      383 non-null    object\n",
      " 6   Response   383 non-null    object\n",
      " 7   Recurred   383 non-null    object\n",
      "dtypes: int64(1), object(7)\n",
      "memory usage: 24.1+ KB\n"
     ]
    }
   ],
   "source": [
    "df_cleaned.info()"
   ]
  },
  {
   "cell_type": "code",
   "execution_count": 31,
   "id": "0fcd156a",
   "metadata": {},
   "outputs": [
    {
     "data": {
      "text/plain": [
       "Pathology\n",
       "Papillary         287\n",
       "Micropapillary     48\n",
       "Follicular         28\n",
       "Hurthel cell       20\n",
       "Name: count, dtype: int64"
      ]
     },
     "execution_count": 31,
     "metadata": {},
     "output_type": "execute_result"
    }
   ],
   "source": [
    "df_cleaned['Pathology'].value_counts()"
   ]
  },
  {
   "cell_type": "code",
   "execution_count": 32,
   "id": "1774ad35",
   "metadata": {},
   "outputs": [
    {
     "data": {
      "text/plain": [
       "Stage\n",
       "I      333\n",
       "II      32\n",
       "IVB     11\n",
       "III      4\n",
       "IVA      3\n",
       "Name: count, dtype: int64"
      ]
     },
     "execution_count": 32,
     "metadata": {},
     "output_type": "execute_result"
    }
   ],
   "source": [
    "df_cleaned['Stage'].value_counts()"
   ]
  },
  {
   "cell_type": "code",
   "execution_count": 33,
   "id": "ed86483d",
   "metadata": {},
   "outputs": [
    {
     "data": {
      "text/plain": [
       "Recurred\n",
       "No     275\n",
       "Yes    108\n",
       "Name: count, dtype: int64"
      ]
     },
     "execution_count": 33,
     "metadata": {},
     "output_type": "execute_result"
    }
   ],
   "source": [
    "df_cleaned['Recurred'].value_counts()"
   ]
  },
  {
   "cell_type": "code",
   "execution_count": 34,
   "id": "8a04ecf8",
   "metadata": {},
   "outputs": [],
   "source": [
    "df_predict = df_cleaned[['Pathology', 'Stage', 'Recurred']]"
   ]
  },
  {
   "cell_type": "code",
   "execution_count": 35,
   "id": "4380be97",
   "metadata": {},
   "outputs": [
    {
     "data": {
      "text/html": [
       "<div>\n",
       "<style scoped>\n",
       "    .dataframe tbody tr th:only-of-type {\n",
       "        vertical-align: middle;\n",
       "    }\n",
       "\n",
       "    .dataframe tbody tr th {\n",
       "        vertical-align: top;\n",
       "    }\n",
       "\n",
       "    .dataframe thead th {\n",
       "        text-align: right;\n",
       "    }\n",
       "</style>\n",
       "<table border=\"1\" class=\"dataframe\">\n",
       "  <thead>\n",
       "    <tr style=\"text-align: right;\">\n",
       "      <th></th>\n",
       "      <th>Pathology</th>\n",
       "      <th>Stage</th>\n",
       "      <th>Recurred</th>\n",
       "    </tr>\n",
       "  </thead>\n",
       "  <tbody>\n",
       "    <tr>\n",
       "      <th>0</th>\n",
       "      <td>Micropapillary</td>\n",
       "      <td>I</td>\n",
       "      <td>No</td>\n",
       "    </tr>\n",
       "    <tr>\n",
       "      <th>1</th>\n",
       "      <td>Micropapillary</td>\n",
       "      <td>I</td>\n",
       "      <td>No</td>\n",
       "    </tr>\n",
       "    <tr>\n",
       "      <th>2</th>\n",
       "      <td>Micropapillary</td>\n",
       "      <td>I</td>\n",
       "      <td>No</td>\n",
       "    </tr>\n",
       "    <tr>\n",
       "      <th>3</th>\n",
       "      <td>Micropapillary</td>\n",
       "      <td>I</td>\n",
       "      <td>No</td>\n",
       "    </tr>\n",
       "    <tr>\n",
       "      <th>4</th>\n",
       "      <td>Micropapillary</td>\n",
       "      <td>I</td>\n",
       "      <td>No</td>\n",
       "    </tr>\n",
       "  </tbody>\n",
       "</table>\n",
       "</div>"
      ],
      "text/plain": [
       "        Pathology Stage Recurred\n",
       "0  Micropapillary     I       No\n",
       "1  Micropapillary     I       No\n",
       "2  Micropapillary     I       No\n",
       "3  Micropapillary     I       No\n",
       "4  Micropapillary     I       No"
      ]
     },
     "execution_count": 35,
     "metadata": {},
     "output_type": "execute_result"
    }
   ],
   "source": [
    "df_predict.head()"
   ]
  },
  {
   "cell_type": "code",
   "execution_count": 36,
   "id": "0f9ae453",
   "metadata": {},
   "outputs": [
    {
     "name": "stderr",
     "output_type": "stream",
     "text": [
      "C:\\Users\\dhaen\\AppData\\Local\\Temp\\ipykernel_13060\\624396745.py:1: SettingWithCopyWarning: \n",
      "A value is trying to be set on a copy of a slice from a DataFrame.\n",
      "Try using .loc[row_indexer,col_indexer] = value instead\n",
      "\n",
      "See the caveats in the documentation: https://pandas.pydata.org/pandas-docs/stable/user_guide/indexing.html#returning-a-view-versus-a-copy\n",
      "  df_predict.Recurred = [1 if value == 'Yes' else 0 for value in df_predict.Recurred]\n"
     ]
    }
   ],
   "source": [
    "df_predict.Recurred = [1 if value == 'Yes' else 0 for value in df_predict.Recurred]"
   ]
  },
  {
   "cell_type": "code",
   "execution_count": 37,
   "id": "35a3ed64",
   "metadata": {},
   "outputs": [
    {
     "name": "stderr",
     "output_type": "stream",
     "text": [
      "C:\\Users\\dhaen\\AppData\\Local\\Temp\\ipykernel_13060\\3375185945.py:1: SettingWithCopyWarning: \n",
      "A value is trying to be set on a copy of a slice from a DataFrame\n",
      "\n",
      "See the caveats in the documentation: https://pandas.pydata.org/pandas-docs/stable/user_guide/indexing.html#returning-a-view-versus-a-copy\n",
      "  df_predict['Pathology'].replace(['Papillary', 'Micropapillary', 'Follicular', 'Hurthel cell'], [1,2,3,4], inplace=True)\n"
     ]
    }
   ],
   "source": [
    "df_predict['Pathology'].replace(['Papillary', 'Micropapillary', 'Follicular', 'Hurthel cell'], [1,2,3,4], inplace=True)"
   ]
  },
  {
   "cell_type": "code",
   "execution_count": 38,
   "id": "bb363f8e",
   "metadata": {},
   "outputs": [
    {
     "data": {
      "text/html": [
       "<div>\n",
       "<style scoped>\n",
       "    .dataframe tbody tr th:only-of-type {\n",
       "        vertical-align: middle;\n",
       "    }\n",
       "\n",
       "    .dataframe tbody tr th {\n",
       "        vertical-align: top;\n",
       "    }\n",
       "\n",
       "    .dataframe thead th {\n",
       "        text-align: right;\n",
       "    }\n",
       "</style>\n",
       "<table border=\"1\" class=\"dataframe\">\n",
       "  <thead>\n",
       "    <tr style=\"text-align: right;\">\n",
       "      <th></th>\n",
       "      <th>Pathology</th>\n",
       "      <th>Stage</th>\n",
       "      <th>Recurred</th>\n",
       "    </tr>\n",
       "  </thead>\n",
       "  <tbody>\n",
       "    <tr>\n",
       "      <th>378</th>\n",
       "      <td>1</td>\n",
       "      <td>IVB</td>\n",
       "      <td>1</td>\n",
       "    </tr>\n",
       "    <tr>\n",
       "      <th>379</th>\n",
       "      <td>1</td>\n",
       "      <td>IVB</td>\n",
       "      <td>1</td>\n",
       "    </tr>\n",
       "    <tr>\n",
       "      <th>380</th>\n",
       "      <td>1</td>\n",
       "      <td>IVB</td>\n",
       "      <td>1</td>\n",
       "    </tr>\n",
       "    <tr>\n",
       "      <th>381</th>\n",
       "      <td>4</td>\n",
       "      <td>IVA</td>\n",
       "      <td>1</td>\n",
       "    </tr>\n",
       "    <tr>\n",
       "      <th>382</th>\n",
       "      <td>1</td>\n",
       "      <td>IVA</td>\n",
       "      <td>1</td>\n",
       "    </tr>\n",
       "  </tbody>\n",
       "</table>\n",
       "</div>"
      ],
      "text/plain": [
       "     Pathology Stage  Recurred\n",
       "378          1   IVB         1\n",
       "379          1   IVB         1\n",
       "380          1   IVB         1\n",
       "381          4   IVA         1\n",
       "382          1   IVA         1"
      ]
     },
     "execution_count": 38,
     "metadata": {},
     "output_type": "execute_result"
    }
   ],
   "source": [
    "df_predict.tail()"
   ]
  },
  {
   "cell_type": "code",
   "execution_count": 39,
   "id": "76370ff3",
   "metadata": {},
   "outputs": [],
   "source": [
    "#Pathology key:\n",
    "#Papillary = 0\n",
    "#Micropapillary = 1\n",
    "#Follicular = 2\n",
    "#Hurthel cell = 3"
   ]
  },
  {
   "cell_type": "code",
   "execution_count": 40,
   "id": "7822e197",
   "metadata": {},
   "outputs": [
    {
     "name": "stderr",
     "output_type": "stream",
     "text": [
      "C:\\Users\\dhaen\\AppData\\Local\\Temp\\ipykernel_13060\\1329906200.py:1: SettingWithCopyWarning: \n",
      "A value is trying to be set on a copy of a slice from a DataFrame\n",
      "\n",
      "See the caveats in the documentation: https://pandas.pydata.org/pandas-docs/stable/user_guide/indexing.html#returning-a-view-versus-a-copy\n",
      "  df_predict['Stage'].replace(['I', 'II', 'III', 'IVA', 'IVB'], [1,2,3,4,5], inplace=True)\n"
     ]
    }
   ],
   "source": [
    "df_predict['Stage'].replace(['I', 'II', 'III', 'IVA', 'IVB'], [1,2,3,4,5], inplace=True)"
   ]
  },
  {
   "cell_type": "code",
   "execution_count": 41,
   "id": "7ae4e946",
   "metadata": {},
   "outputs": [
    {
     "data": {
      "text/html": [
       "<div>\n",
       "<style scoped>\n",
       "    .dataframe tbody tr th:only-of-type {\n",
       "        vertical-align: middle;\n",
       "    }\n",
       "\n",
       "    .dataframe tbody tr th {\n",
       "        vertical-align: top;\n",
       "    }\n",
       "\n",
       "    .dataframe thead th {\n",
       "        text-align: right;\n",
       "    }\n",
       "</style>\n",
       "<table border=\"1\" class=\"dataframe\">\n",
       "  <thead>\n",
       "    <tr style=\"text-align: right;\">\n",
       "      <th></th>\n",
       "      <th>Pathology</th>\n",
       "      <th>Stage</th>\n",
       "      <th>Recurred</th>\n",
       "    </tr>\n",
       "  </thead>\n",
       "  <tbody>\n",
       "    <tr>\n",
       "      <th>378</th>\n",
       "      <td>1</td>\n",
       "      <td>5</td>\n",
       "      <td>1</td>\n",
       "    </tr>\n",
       "    <tr>\n",
       "      <th>379</th>\n",
       "      <td>1</td>\n",
       "      <td>5</td>\n",
       "      <td>1</td>\n",
       "    </tr>\n",
       "    <tr>\n",
       "      <th>380</th>\n",
       "      <td>1</td>\n",
       "      <td>5</td>\n",
       "      <td>1</td>\n",
       "    </tr>\n",
       "    <tr>\n",
       "      <th>381</th>\n",
       "      <td>4</td>\n",
       "      <td>4</td>\n",
       "      <td>1</td>\n",
       "    </tr>\n",
       "    <tr>\n",
       "      <th>382</th>\n",
       "      <td>1</td>\n",
       "      <td>4</td>\n",
       "      <td>1</td>\n",
       "    </tr>\n",
       "  </tbody>\n",
       "</table>\n",
       "</div>"
      ],
      "text/plain": [
       "     Pathology  Stage  Recurred\n",
       "378          1      5         1\n",
       "379          1      5         1\n",
       "380          1      5         1\n",
       "381          4      4         1\n",
       "382          1      4         1"
      ]
     },
     "execution_count": 41,
     "metadata": {},
     "output_type": "execute_result"
    }
   ],
   "source": [
    "df_predict.tail()"
   ]
  },
  {
   "cell_type": "code",
   "execution_count": 42,
   "id": "3211e3c5",
   "metadata": {},
   "outputs": [],
   "source": [
    "#Predictors and target\n",
    "\n",
    "y = df_predict['Recurred'] #Target\n",
    "X = df_predict.drop(['Recurred'], axis = 1)"
   ]
  },
  {
   "cell_type": "code",
   "execution_count": 43,
   "id": "abda7021",
   "metadata": {},
   "outputs": [],
   "source": [
    "from sklearn.preprocessing import StandardScaler"
   ]
  },
  {
   "cell_type": "code",
   "execution_count": 44,
   "id": "1b63fcb3",
   "metadata": {},
   "outputs": [],
   "source": [
    "#Normalise the data\n",
    "\n",
    "scaler = StandardScaler()\n",
    "\n",
    "X_scaled = scaler.fit_transform(X)"
   ]
  },
  {
   "cell_type": "code",
   "execution_count": 45,
   "id": "b6780ef8",
   "metadata": {},
   "outputs": [],
   "source": [
    "#Training and testing\n",
    "\n",
    "X_train, X_test, y_train, y_test = train_test_split(X_scaled, y, test_size = 0.3, random_state = 42)"
   ]
  },
  {
   "cell_type": "code",
   "execution_count": 46,
   "id": "f701613f",
   "metadata": {},
   "outputs": [],
   "source": [
    "#Logistic regression model\n",
    "\n",
    "lr = LogisticRegression()\n",
    "\n",
    "lr.fit(X_train, y_train)\n",
    "\n",
    "y_pred = lr.predict(X_test)"
   ]
  },
  {
   "cell_type": "code",
   "execution_count": 48,
   "id": "df74c717",
   "metadata": {},
   "outputs": [
    {
     "data": {
      "text/plain": [
       "array([0, 0, 0, 0, 0, 1, 0, 0, 1, 0, 0, 0, 0, 0, 0, 0, 0, 1, 1, 0, 0, 0,\n",
       "       0, 0, 0, 0, 0, 0, 0, 0, 0, 0, 1, 0, 0, 0, 0, 0, 0, 0, 0, 0, 0, 0,\n",
       "       0, 0, 0, 0, 0, 0, 0, 0, 0, 0, 0, 0, 0, 0, 0, 0, 0, 0, 0, 0, 0, 0,\n",
       "       1, 0, 1, 0, 0, 0, 0, 0, 0, 0, 0, 0, 1, 0, 0, 0, 0, 0, 0, 0, 1, 0,\n",
       "       0, 0, 0, 0, 0, 1, 0, 0, 0, 0, 1, 0, 0, 0, 1, 1, 0, 0, 0, 0, 1, 0,\n",
       "       0, 0, 0, 0, 0], dtype=int64)"
      ]
     },
     "execution_count": 48,
     "metadata": {},
     "output_type": "execute_result"
    }
   ],
   "source": [
    "y_pred #1 means that the prediction is that thyroid cancer recurred, vice versa for 0"
   ]
  },
  {
   "cell_type": "code",
   "execution_count": 49,
   "id": "17f5de88",
   "metadata": {},
   "outputs": [
    {
     "data": {
      "text/plain": [
       "268    0\n",
       "250    0\n",
       "318    1\n",
       "331    1\n",
       "56     0\n",
       "      ..\n",
       "109    0\n",
       "17     0\n",
       "173    0\n",
       "24     0\n",
       "203    0\n",
       "Name: Recurred, Length: 115, dtype: int64"
      ]
     },
     "execution_count": 49,
     "metadata": {},
     "output_type": "execute_result"
    }
   ],
   "source": [
    "y_test #If y_pred = y_test, the prediction was perfect"
   ]
  },
  {
   "cell_type": "code",
   "execution_count": 52,
   "id": "c2ea5595",
   "metadata": {},
   "outputs": [
    {
     "name": "stdout",
     "output_type": "stream",
     "text": [
      "Accuracy:  0.83\n"
     ]
    }
   ],
   "source": [
    "#Evaluate the model\n",
    "\n",
    "from sklearn.metrics import accuracy_score\n",
    "\n",
    "accuracy = accuracy_score(y_test, y_pred)\n",
    "print(f\"Accuracy: {accuracy: .2f}\")"
   ]
  },
  {
   "cell_type": "code",
   "execution_count": 53,
   "id": "51c7f939",
   "metadata": {},
   "outputs": [],
   "source": [
    "#Accuracy was 83%, which is not too bad. The prediction model is pretty good."
   ]
  },
  {
   "cell_type": "code",
   "execution_count": 54,
   "id": "c5ba31d4",
   "metadata": {},
   "outputs": [
    {
     "name": "stdout",
     "output_type": "stream",
     "text": [
      "              precision    recall  f1-score   support\n",
      "\n",
      "           0       0.81      0.99      0.89        83\n",
      "           1       0.93      0.41      0.57        32\n",
      "\n",
      "    accuracy                           0.83       115\n",
      "   macro avg       0.87      0.70      0.73       115\n",
      "weighted avg       0.84      0.83      0.80       115\n",
      "\n"
     ]
    }
   ],
   "source": [
    "from sklearn.metrics import classification_report\n",
    "print(classification_report(y_test, y_pred))"
   ]
  },
  {
   "cell_type": "code",
   "execution_count": 55,
   "id": "829b8bec",
   "metadata": {},
   "outputs": [],
   "source": [
    "#Precision for recurring thyroid cancer was 93%, 81% for vice versa."
   ]
  },
  {
   "cell_type": "code",
   "execution_count": 56,
   "id": "ef09b5d8",
   "metadata": {},
   "outputs": [],
   "source": [
    "#Relationship between response and recurrence"
   ]
  },
  {
   "cell_type": "code",
   "execution_count": 57,
   "id": "f71b9ea9",
   "metadata": {},
   "outputs": [],
   "source": [
    "from scipy.stats import chi2_contingency"
   ]
  },
  {
   "cell_type": "code",
   "execution_count": 58,
   "id": "8d07b711",
   "metadata": {},
   "outputs": [],
   "source": [
    "#Null hypothesis: Response and recurrence are not correlated\n",
    "#Alternate hypothesis: Response and recurrence are correlated"
   ]
  },
  {
   "cell_type": "code",
   "execution_count": 59,
   "id": "2303f2da",
   "metadata": {},
   "outputs": [
    {
     "data": {
      "text/html": [
       "<div>\n",
       "<style scoped>\n",
       "    .dataframe tbody tr th:only-of-type {\n",
       "        vertical-align: middle;\n",
       "    }\n",
       "\n",
       "    .dataframe tbody tr th {\n",
       "        vertical-align: top;\n",
       "    }\n",
       "\n",
       "    .dataframe thead th {\n",
       "        text-align: right;\n",
       "    }\n",
       "</style>\n",
       "<table border=\"1\" class=\"dataframe\">\n",
       "  <thead>\n",
       "    <tr style=\"text-align: right;\">\n",
       "      <th>Recurred</th>\n",
       "      <th>No</th>\n",
       "      <th>Yes</th>\n",
       "    </tr>\n",
       "    <tr>\n",
       "      <th>Response</th>\n",
       "      <th></th>\n",
       "      <th></th>\n",
       "    </tr>\n",
       "  </thead>\n",
       "  <tbody>\n",
       "    <tr>\n",
       "      <th>Biochemical Incomplete</th>\n",
       "      <td>12</td>\n",
       "      <td>11</td>\n",
       "    </tr>\n",
       "    <tr>\n",
       "      <th>Excellent</th>\n",
       "      <td>207</td>\n",
       "      <td>1</td>\n",
       "    </tr>\n",
       "    <tr>\n",
       "      <th>Indeterminate</th>\n",
       "      <td>54</td>\n",
       "      <td>7</td>\n",
       "    </tr>\n",
       "    <tr>\n",
       "      <th>Structural Incomplete</th>\n",
       "      <td>2</td>\n",
       "      <td>89</td>\n",
       "    </tr>\n",
       "  </tbody>\n",
       "</table>\n",
       "</div>"
      ],
      "text/plain": [
       "Recurred                 No  Yes\n",
       "Response                        \n",
       "Biochemical Incomplete   12   11\n",
       "Excellent               207    1\n",
       "Indeterminate            54    7\n",
       "Structural Incomplete     2   89"
      ]
     },
     "execution_count": 59,
     "metadata": {},
     "output_type": "execute_result"
    }
   ],
   "source": [
    "cross_tab = pd.crosstab(index = df_cleaned['Response'], columns = df_cleaned['Recurred'])\n",
    "cross_tab"
   ]
  },
  {
   "cell_type": "code",
   "execution_count": 60,
   "id": "c573781e",
   "metadata": {},
   "outputs": [],
   "source": [
    "chi_sq_result = chi2_contingency(cross_tab,)"
   ]
  },
  {
   "cell_type": "code",
   "execution_count": 64,
   "id": "dd962846",
   "metadata": {},
   "outputs": [],
   "source": [
    "p, ra = chi_sq_result[1], \"reject\" if chi_sq_result[1] < 0.05 else \"accept\""
   ]
  },
  {
   "cell_type": "code",
   "execution_count": 65,
   "id": "5518e782",
   "metadata": {},
   "outputs": [
    {
     "name": "stdout",
     "output_type": "stream",
     "text": [
      "The p-value is 8.863123780463506e-67 so we reject the null hypothesis with 3 degrees of freedom\n"
     ]
    }
   ],
   "source": [
    "print(f\"The p-value is {chi_sq_result[1]} so we {ra} the null hypothesis with {chi_sq_result[2]} degrees of freedom\")"
   ]
  },
  {
   "cell_type": "code",
   "execution_count": null,
   "id": "75fe4523",
   "metadata": {},
   "outputs": [],
   "source": [
    "#This means that the response is correlated with recurrence."
   ]
  }
 ],
 "metadata": {
  "kernelspec": {
   "display_name": "Python 3 (ipykernel)",
   "language": "python",
   "name": "python3"
  },
  "language_info": {
   "codemirror_mode": {
    "name": "ipython",
    "version": 3
   },
   "file_extension": ".py",
   "mimetype": "text/x-python",
   "name": "python",
   "nbconvert_exporter": "python",
   "pygments_lexer": "ipython3",
   "version": "3.11.5"
  }
 },
 "nbformat": 4,
 "nbformat_minor": 5
}
